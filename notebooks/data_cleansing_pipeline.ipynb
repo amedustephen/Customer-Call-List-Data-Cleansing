{
 "cells": [
  {
   "cell_type": "markdown",
   "id": "420097ca",
   "metadata": {},
   "source": [
    "# Data Cleaning with Python Pandas"
   ]
  },
  {
   "cell_type": "markdown",
   "id": "c827f255",
   "metadata": {},
   "source": [
    "## Problem Statement\n",
    "\n",
    "The fictitious client is a mid-sized customer engagement firm specializing in telemarketing and customer support services. They rely on accurate and up-to-date customer data for their call agents to ensure seamless client interactions.\n",
    "\n",
    "Their current customer call list is riddled with issues such as:\n",
    "\n",
    "- Duplicate entries, leading to redundant calls.\n",
    "* Missing values (e.g., phone numbers or customer names), making some entries unusable.\n",
    "+ Inconsistent formatting (e.g., phone numbers stored in multiple formats, incorrect casing in names).\n",
    "\n",
    "These problems result in inefficiencies, wasted time, and lower productivity for call agents. The client needs a standardized and cleaned dataset to maximize operational efficiency and improve call agent performance.\n"
   ]
  },
  {
   "cell_type": "markdown",
   "id": "b5b1931a",
   "metadata": {},
   "source": [
    "## Purpose\n",
    "\n",
    "The primary goal of this project is to provide the client with a clean, standardized, and actionable customer call list that eliminates redundancies, corrects inconsistencies, and ensures data readiness for immediate use by call agents.\n",
    "\n",
    "### Objectives:\n",
    "\n",
    "1. Identify and remove duplicate records to avoid redundancy.\n",
    "2. Handle missing values to ensure all essential fields required for making calls are complete or flagged appropriately.\n",
    "3. Standardize formatting for consistency across fields (e.g., phone numbers, names, and addresses).\n",
    "4. Remove unnecessary columns and rows that do not contribute to the call agent’s workflow."
   ]
  },
  {
   "cell_type": "markdown",
   "id": "6c109e44",
   "metadata": {},
   "source": [
    "## Installing and Loading Packages"
   ]
  },
  {
   "cell_type": "code",
   "execution_count": null,
   "id": "f8f00c49",
   "metadata": {},
   "outputs": [],
   "source": []
  },
  {
   "cell_type": "code",
   "execution_count": null,
   "id": "a0575793",
   "metadata": {},
   "outputs": [],
   "source": []
  },
  {
   "cell_type": "markdown",
   "id": "a2948fea",
   "metadata": {},
   "source": [
    "## Data Acquisition and Profiling"
   ]
  },
  {
   "cell_type": "code",
   "execution_count": null,
   "id": "85bae5ca",
   "metadata": {},
   "outputs": [],
   "source": []
  },
  {
   "cell_type": "code",
   "execution_count": null,
   "id": "c7afdc8f",
   "metadata": {},
   "outputs": [],
   "source": []
  },
  {
   "cell_type": "markdown",
   "id": "1deef0eb",
   "metadata": {},
   "source": [
    "## Findings"
   ]
  },
  {
   "cell_type": "code",
   "execution_count": null,
   "id": "7ffc788b",
   "metadata": {},
   "outputs": [],
   "source": []
  },
  {
   "cell_type": "code",
   "execution_count": null,
   "id": "31935f31",
   "metadata": {},
   "outputs": [],
   "source": []
  },
  {
   "cell_type": "markdown",
   "id": "e029f313",
   "metadata": {},
   "source": [
    "## Data Cleansing"
   ]
  },
  {
   "cell_type": "code",
   "execution_count": null,
   "id": "c527dadd",
   "metadata": {},
   "outputs": [],
   "source": []
  },
  {
   "cell_type": "code",
   "execution_count": null,
   "id": "79af0b2c",
   "metadata": {},
   "outputs": [],
   "source": []
  },
  {
   "cell_type": "markdown",
   "id": "e4c09632",
   "metadata": {},
   "source": [
    "## Export Cleaned Dataset"
   ]
  },
  {
   "cell_type": "code",
   "execution_count": null,
   "id": "ff1d3c71",
   "metadata": {},
   "outputs": [],
   "source": []
  },
  {
   "cell_type": "code",
   "execution_count": null,
   "id": "7fc3bb67",
   "metadata": {},
   "outputs": [],
   "source": []
  },
  {
   "cell_type": "markdown",
   "id": "0d722d8d",
   "metadata": {},
   "source": [
    "# The End"
   ]
  }
 ],
 "metadata": {
  "kernelspec": {
   "display_name": "Python 3 (ipykernel)",
   "language": "python",
   "name": "python3"
  },
  "language_info": {
   "codemirror_mode": {
    "name": "ipython",
    "version": 3
   },
   "file_extension": ".py",
   "mimetype": "text/x-python",
   "name": "python",
   "nbconvert_exporter": "python",
   "pygments_lexer": "ipython3",
   "version": "3.9.7"
  }
 },
 "nbformat": 4,
 "nbformat_minor": 5
}
